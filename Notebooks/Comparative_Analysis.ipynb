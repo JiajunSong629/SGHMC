{
 "cells": [
  {
   "cell_type": "markdown",
   "metadata": {},
   "source": [
    "# Comparative analysis with competing algorithms"
   ]
  },
  {
   "cell_type": "code",
   "execution_count": null,
   "metadata": {},
   "outputs": [],
   "source": [
    "import theano\n",
    "theano.config.warn.round=False\n",
    "import pymc3 as pm\n",
    "import numpy as np\n",
    "import seaborn as sns\n",
    "import matplotlib.pyplot as plt"
   ]
  },
  {
   "cell_type": "code",
   "execution_count": null,
   "metadata": {},
   "outputs": [],
   "source": [
    "# data\n",
    "np.random.seed(663)\n",
    "\n",
    "N = 10000\n",
    "theta1 = -3; theta2 = 3\n",
    "z = np.random.choice(2, N, p=[0.5,0.5])\n",
    "xs = np.zeros((N, 1))\n",
    "\n",
    "for i in range(N):\n",
    "    if z[i] == 1:\n",
    "        xs[i] = np.random.randn(1) + theta1\n",
    "    else:\n",
    "        xs[i] = np.random.randn(1) + theta2"
   ]
  },
  {
   "cell_type": "markdown",
   "metadata": {},
   "source": [
    "## Pymc3"
   ]
  },
  {
   "cell_type": "code",
   "execution_count": null,
   "metadata": {},
   "outputs": [],
   "source": [
    "niter = 500\n",
    "with pm.Model() as gaussian_mixture:\n",
    "    mu = pm.MvNormal('mu', mu = np.zeros(2), cov=10*np.eye(2), shape=(1,2))\n",
    "    x = pm.NormalMixture('x', w=np.array([.5,.5]),\n",
    "                         mu=mu, sigma=np.array([1, 1]), \n",
    "                         observed=xs)\n",
    "    trace = pm.sample(niter)"
   ]
  },
  {
   "cell_type": "code",
   "execution_count": null,
   "metadata": {},
   "outputs": [],
   "source": [
    "df = pm.trace_to_dataframe(trace)\n",
    "sns.kdeplot(df.iloc[:,0], df.iloc[:,1])\n",
    "plt.savefig('Pymc.png')\n",
    "pass"
   ]
  },
  {
   "cell_type": "markdown",
   "metadata": {},
   "source": [
    "## PyStan"
   ]
  },
  {
   "cell_type": "code",
   "execution_count": null,
   "metadata": {},
   "outputs": [],
   "source": [
    "import pystan"
   ]
  },
  {
   "cell_type": "code",
   "execution_count": null,
   "metadata": {},
   "outputs": [],
   "source": [
    "gaussian_mixture = '''\n",
    "data {\n",
    "    int N;\n",
    "    vector[N] xs;\n",
    "    int n_groups;\n",
    "    vector<lower = 0>[n_groups] sigma;\n",
    "    vector<lower=0>[n_groups]  weights;\n",
    "}\n",
    "parameters {\n",
    "    vector[n_groups] mu;\n",
    "}\n",
    "model {\n",
    "      vector[n_groups] contributions;\n",
    "      // priors\n",
    "      mu ~ normal(0, 10);\n",
    "      \n",
    "      // likelihood\n",
    "      for(i in 1:N) {\n",
    "        for(k in 1:n_groups) {\n",
    "          contributions[k] = log(weights[k]) + normal_lpdf(xs[i] | mu[k], sigma[k]);\n",
    "        }\n",
    "        target += log_sum_exp(contributions);\n",
    "      }\n",
    "}\n",
    "'''"
   ]
  },
  {
   "cell_type": "code",
   "execution_count": null,
   "metadata": {},
   "outputs": [],
   "source": [
    "data = {\n",
    "    'N': len(xs),\n",
    "    'xs': xs.flatten(),\n",
    "    'n_groups': 2,\n",
    "    'sigma': np.array([1.0, 1.0]),\n",
    "    'weights': np.array([.5, .5])\n",
    "}\n",
    "    \n",
    "sm = pystan.StanModel(model_code=gaussian_mixture)\n",
    "fit = sm.sampling(data = data, iter=1000, chains=4)\n",
    "\n",
    "samples = fit.extract(permuted=True)['mu']\n",
    "sns.kdeplot(samples[:,0], samples[:,1])\n",
    "pass"
   ]
  },
  {
   "cell_type": "code",
   "execution_count": null,
   "metadata": {},
   "outputs": [],
   "source": []
  }
 ],
 "metadata": {
  "kernelspec": {
   "display_name": "Python 3",
   "language": "python",
   "name": "python3"
  },
  "language_info": {
   "codemirror_mode": {
    "name": "ipython",
    "version": 3
   },
   "file_extension": ".py",
   "mimetype": "text/x-python",
   "name": "python",
   "nbconvert_exporter": "python",
   "pygments_lexer": "ipython3",
   "version": "3.6.10"
  }
 },
 "nbformat": 4,
 "nbformat_minor": 2
}