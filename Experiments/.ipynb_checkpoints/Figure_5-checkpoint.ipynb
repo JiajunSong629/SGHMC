{
 "cells": [
  {
   "cell_type": "code",
   "execution_count": 1,
   "metadata": {},
   "outputs": [],
   "source": [
    "## Figure_5.png is generated in ~/Notebooks/Comparative_analysis"
   ]
  }
 ],
 "metadata": {
  "kernelspec": {
   "display_name": "Python 3.7.5 64-bit ('.sghmc': venv)",
   "language": "python",
   "name": "python37564bitsghmcvenvadb4b442cff84c93b4eb62fd5a097173"
  },
  "language_info": {
   "codemirror_mode": {
    "name": "ipython",
    "version": 3
   },
   "file_extension": ".py",
   "mimetype": "text/x-python",
   "name": "python",
   "nbconvert_exporter": "python",
   "pygments_lexer": "ipython3",
   "version": "3.7.5"
  }
 },
 "nbformat": 4,
 "nbformat_minor": 2
}
