{
 "cells": [
  {
   "cell_type": "code",
   "execution_count": 38,
   "metadata": {},
   "outputs": [],
   "source": [
    "import numpy as np\n",
    "import seaborn as sns\n",
    "import matplotlib.pyplot as plt"
   ]
  },
  {
   "cell_type": "markdown",
   "metadata": {},
   "source": [
    "## Gaussian Mixture"
   ]
  },
  {
   "cell_type": "code",
   "execution_count": null,
   "metadata": {},
   "outputs": [],
   "source": [
    "## samples, multimodal mixture gaussian\n",
    "N = 1000\n",
    "theta1 = -3\n",
    "theta2 = 3\n",
    "z = np.random.choice(2, N, p=[0.5,0.5])\n",
    "X = np.zeros((N, 1))\n",
    "\n",
    "for i in range(N):\n",
    "    if z[i] == 1:\n",
    "        X[i] = np.random.randn(1) + theta1\n",
    "    else:\n",
    "        X[i] = np.random.randn(1) + theta2"
   ]
  },
  {
   "cell_type": "code",
   "execution_count": null,
   "metadata": {},
   "outputs": [],
   "source": [
    "import autograd.numpy as np\n",
    "from autograd import jacobian\n",
    "\n",
    "def log_prior(theta):\n",
    "    return(-(1/(2*10))*theta.T@theta)\n",
    "          \n",
    "def log_lik(theta, x):\n",
    "    return(np.log(0.5 * np.exp(-0.5*(theta[0]-x)**2) + 0.5* np.exp(-0.5*(theta[1]-x)**2)))\n",
    "    \n",
    "def U(theta, x, scale):\n",
    "    return(-log_prior(theta) - scale*np.sum(log_lik(theta, x)))\n",
    "\n",
    "gradU = jacobian(U, argnum=0)"
   ]
  },
  {
   "cell_type": "code",
   "execution_count": null,
   "metadata": {},
   "outputs": [],
   "source": [
    "#from sghmc import sghmc\n",
    "\n",
    "samples = sghmc(gradU, X, 100, np.array([.0, .0]))\n",
    "sns.set()\n",
    "sns.kdeplot(samples[:,0], samples[:,1])\n",
    "pass"
   ]
  },
  {
   "cell_type": "markdown",
   "metadata": {},
   "source": [
    "## Bayesian Logistic Regression"
   ]
  },
  {
   "cell_type": "code",
   "execution_count": 60,
   "metadata": {},
   "outputs": [],
   "source": [
    "import numpy as np\n",
    "from sklearn import datasets\n",
    "\n",
    "iris = datasets.load_iris()\n",
    "X = iris[\"data\"][:, 3:]\n",
    "X_ = np.c_[np.ones(X.shape[0]), X]\n",
    "y = ( iris[\"target\"] == 2 ).astype(int)"
   ]
  },
  {
   "cell_type": "code",
   "execution_count": 42,
   "metadata": {},
   "outputs": [],
   "source": [
    "def sigmoid(x):\n",
    "    return 1 - 1 / (1 + np.exp(x))\n",
    "\n",
    "def log_prior(beta):\n",
    "    return -(1/(2*10))*beta.T@beta\n",
    "\n",
    "def log_lik(beta, data):\n",
    "    X = data[:,:-1]; y = data[:, -1]\n",
    "    log_liks = np.zeros(X.shape[0])\n",
    "    for i in range(X.shape[0]):\n",
    "        if y[i] == 1:\n",
    "            log_liks[i] = X[i]@beta - np.log( 1+np.exp(X[i]@beta) )\n",
    "        else:\n",
    "            log_liks[i] = - np.log( 1+np.exp(X[i]@beta) )\n",
    "    return log_liks\n",
    "    \n",
    "def gradU(beta, data, scale):\n",
    "    X = data[:, :-1]; y = data[:, -1]\n",
    "    ypred = sigmoid(X@beta)\n",
    "    grad_lik = X.T@(ypred - y)\n",
    "    grad_prior = np.sum(beta > 0) - np.sum(beta < 0)\n",
    "    return grad_prior + scale*grad_lik"
   ]
  },
  {
   "cell_type": "code",
   "execution_count": 61,
   "metadata": {},
   "outputs": [
    {
     "data": {
      "text/plain": [
       "array([19.28477935,  8.93509924])"
      ]
     },
     "execution_count": 61,
     "metadata": {},
     "output_type": "execute_result"
    }
   ],
   "source": [
    "beta = np.random.randn(2) * np.sqrt(10)\n",
    "gradU(beta, np.c_[X_,y], 1)"
   ]
  },
  {
   "cell_type": "code",
   "execution_count": 62,
   "metadata": {},
   "outputs": [],
   "source": [
    "from preprocess import create_batch\n",
    "\n",
    "def sghmc(gradU, dataset, batch_size, start_states, alpha=None, eta=None, n_epochs=500, n_burn=50, random_seed=42):\n",
    "    RSTATE = np.random.RandomState(int(random_seed))\n",
    "    \n",
    "    ## parameter vector dimension and number of samples\n",
    "    n_samples = dataset.shape[0]\n",
    "    n_params = start_states.shape[0]\n",
    "    proposal_samples = np.zeros((n_epochs, n_params))\n",
    "    proposal_samples[0] = start_states\n",
    "    alpha = 0.1 if alpha is None else alpha\n",
    "    eta = 2 * 0.01 / n_samples if eta is None else eta\n",
    "    bhat = 0\n",
    "    Sigma = np.linalg.cholesky(2 * (alpha-bhat) * eta * np.eye(n_params))\n",
    "    minibatch_data, n_batches = create_batch(dataset, batch_size)\n",
    "    \n",
    "    for i in range(n_epochs-1):\n",
    "        cur_states = proposal_samples[i]\n",
    "        \n",
    "        ## resample momentum at each new epoch\n",
    "        momentum = np.sqrt(eta) * RSTATE.randn(n_params)\n",
    "        \n",
    "        ## sghmc sampler\n",
    "        for j in range(n_batches):\n",
    "            cur_states = cur_states + momentum\n",
    "            gradU_batch = gradU(cur_states, minibatch_data[:,:,j], n_samples/batch_size)\n",
    "            #print (eta*gradU_batch)\n",
    "            momentum = (1-alpha) * momentum - eta * gradU_batch.flatten() \\\n",
    "                                            + np.dot(Sigma, RSTATE.randn(n_params))\n",
    "            #print (momentum)\n",
    "        ## store results\n",
    "        proposal_samples[i+1] = cur_states\n",
    "    \n",
    "    return proposal_samples[n_burn: , :]"
   ]
  },
  {
   "cell_type": "code",
   "execution_count": 48,
   "metadata": {},
   "outputs": [
    {
     "data": {
      "text/plain": [
       "array([2.12820689])"
      ]
     },
     "execution_count": 48,
     "metadata": {},
     "output_type": "execute_result"
    }
   ],
   "source": [
    "beta = np.random.randn(1) * np.sqrt(10)\n",
    "beta"
   ]
  },
  {
   "cell_type": "code",
   "execution_count": 63,
   "metadata": {},
   "outputs": [],
   "source": [
    "samples = sghmc(gradU, np.c_[X,y], 10, np.array([0]), n_epochs=5000)\n",
    "#sns.set()\n",
    "#sns.kdeplot(samples[:,0], samples[:,1])"
   ]
  },
  {
   "cell_type": "code",
   "execution_count": null,
   "metadata": {},
   "outputs": [],
   "source": []
  },
  {
   "cell_type": "code",
   "execution_count": 54,
   "metadata": {},
   "outputs": [
    {
     "data": {
      "text/plain": [
       "(array([  1.,  12.,  24.,  49., 124., 202., 348., 543., 670., 737., 686.,\n",
       "        569., 404., 274., 158.,  79.,  44.,  15.,   7.,   4.]),\n",
       " array([-0.41818208, -0.36478458, -0.31138708, -0.25798959, -0.20459209,\n",
       "        -0.15119459, -0.09779709, -0.0443996 ,  0.0089979 ,  0.0623954 ,\n",
       "         0.1157929 ,  0.1691904 ,  0.22258789,  0.27598539,  0.32938289,\n",
       "         0.38278039,  0.43617788,  0.48957538,  0.54297288,  0.59637038,\n",
       "         0.64976788]),\n",
       " <a list of 20 Patch objects>)"
      ]
     },
     "execution_count": 54,
     "metadata": {},
     "output_type": "execute_result"
    },
    {
     "data": {
      "image/png": "[encoded data removed]",
      "text/plain": [
       "<Figure size 432x288 with 1 Axes>"
      ]
     },
     "metadata": {},
     "output_type": "display_data"
    }
   ],
   "source": [
    "plt.hist(samples,bins=20)"
   ]
  },
  {
   "cell_type": "code",
   "execution_count": null,
   "metadata": {},
   "outputs": [],
   "source": []
  },
  {
   "cell_type": "code",
   "execution_count": 56,
   "metadata": {},
   "outputs": [],
   "source": [
    "from sklearn.linear_model import LogisticRegression\n",
    "\n",
    "log_reg = LogisticRegression()\n",
    "log_reg.fit(X, y)\n",
    "pass"
   ]
  },
  {
   "cell_type": "code",
   "execution_count": 58,
   "metadata": {},
   "outputs": [
    {
     "data": {
      "text/plain": [
       "array([[4.3330846]])"
      ]
     },
     "execution_count": 58,
     "metadata": {},
     "output_type": "execute_result"
    }
   ],
   "source": [
    "log_reg.coef_"
   ]
  },
  {
   "cell_type": "code",
   "execution_count": 59,
   "metadata": {},
   "outputs": [
    {
     "data": {
      "text/plain": [
       "array([-7.1947083])"
      ]
     },
     "execution_count": 59,
     "metadata": {},
     "output_type": "execute_result"
    }
   ],
   "source": [
    "log_reg.intercept_"
   ]
  }
 ],
 "metadata": {
  "kernelspec": {
   "display_name": "Python 3.7.5 64-bit ('.sghmc': venv)",
   "language": "python",
   "name": "python37564bitsghmcvenvadb4b442cff84c93b4eb62fd5a097173"
  },
  "language_info": {
   "codemirror_mode": {
    "name": "ipython",
    "version": 3
   },
   "file_extension": ".py",
   "mimetype": "text/x-python",
   "name": "python",
   "nbconvert_exporter": "python",
   "pygments_lexer": "ipython3",
   "version": "3.7.5"
  }
 },
 "nbformat": 4,
 "nbformat_minor": 2
}
